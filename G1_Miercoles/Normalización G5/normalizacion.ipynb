{
  "nbformat": 4,
  "nbformat_minor": 0,
  "metadata": {
    "colab": {
      "provenance": []
    },
    "kernelspec": {
      "name": "python3",
      "display_name": "Python 3"
    },
    "language_info": {
      "name": "python"
    }
  },
  "cells": [
    {
      "cell_type": "code",
      "execution_count": null,
      "metadata": {
        "id": "GVQH4ltJ-uyc"
      },
      "outputs": [],
      "source": [
        "import pandas as pd\n",
        "from sklearn.preprocessing import MinMaxScaler\n"
      ]
    },
    {
      "cell_type": "code",
      "source": [
        "ruta_archivo = \"houses_medellin.csv\"\n",
        "df = pd.read_csv(ruta_archivo)"
      ],
      "metadata": {
        "id": "y-kng0eGACaE"
      },
      "execution_count": null,
      "outputs": []
    },
    {
      "cell_type": "code",
      "source": [
        "print(\"Datos originales:\")\n",
        "print(df.head())"
      ],
      "metadata": {
        "colab": {
          "base_uri": "https://localhost:8080/"
        },
        "id": "T1hEJ-0GAaPa",
        "outputId": "6b387d3c-655e-4ddd-c0bd-f1426cfd4c73"
      },
      "execution_count": null,
      "outputs": [
        {
          "output_type": "stream",
          "name": "stdout",
          "text": [
            "Datos originales:\n",
            "   Unnamed: 0  Habitaciones  Baños  Estrato   Antigüedad Piso N°  \\\n",
            "0           0           NaN    NaN      NaN          NaN     NaN   \n",
            "1           1           1.0    2.0      4.0   1 a 8 años       3   \n",
            "2           2           1.0    2.0      6.0  9 a 15 años     NaN   \n",
            "3           3           NaN    NaN      NaN          NaN     NaN   \n",
            "4           4           1.0    1.0      5.0          NaN       3   \n",
            "\n",
            "  Administración          Precio m²  Parqueaderos Estado Tipo de apartamento  \\\n",
            "0            NaN                NaN           NaN    NaN                 NaN   \n",
            "1    No definida  $ 4.032.258,06*m²           NaN    NaN                 NaN   \n",
            "2    No definida  $ 6.428.571,43*m²           2.0    NaN                 NaN   \n",
            "3            NaN                NaN           NaN    NaN                 NaN   \n",
            "4  $ 167.000 COP     $ 4.700.000*m²           2.0    NaN                 NaN   \n",
            "\n",
            "      Precio Área construída (m²) Área privada (m²)  \n",
            "0  240000000                  NaN               NaN  \n",
            "1  250000000                  62                62   \n",
            "2  675000000                 105                 0   \n",
            "3  647307563                  NaN               NaN  \n",
            "4  235000000                  50                 0   \n"
          ]
        }
      ]
    },
    {
      "cell_type": "code",
      "source": [
        "df = df.drop(columns=[\"Unnamed: 0\"], errors=\"ignore\")"
      ],
      "metadata": {
        "id": "Yx7EXBiGAvYn"
      },
      "execution_count": null,
      "outputs": []
    },
    {
      "cell_type": "code",
      "source": [
        "# Convertir valores categóricos a numéricos con One-Hot Encoding\n",
        "columnas_categoricas = [\"Antigüedad\", \"Estado\", \"Tipo de apartamento\"]  # Ajusta según el archivo\n",
        "df = pd.get_dummies(df, columns=columnas_categoricas, drop_first=True)\n",
        "\n",
        "# Reemplazar valores NaN en columnas numéricas con la media de la columna\n",
        "df.fillna(df.mean(numeric_only=True), inplace=True)\n",
        "\n",
        "# Seleccionar solo las columnas numéricas para normalizar\n",
        "columnas_numericas = df.select_dtypes(include=[\"int64\", \"float64\"]).columns\n",
        "\n",
        "# Aplicar Min-Max Scaling a las columnas numéricas\n",
        "scaler = MinMaxScaler()\n",
        "df[columnas_numericas] = scaler.fit_transform(df[columnas_numericas])\n",
        "\n",
        "# Mostrar los primeros datos normalizados\n",
        "print(\"\\nDatos normalizados:\")\n",
        "print(df.head())\n",
        "\n",
        "# Guardar el dataframe normalizado en un nuevo archivo CSV\n",
        "ruta_salida = \"houses_medellin_normalizado.csv\"\n",
        "df.to_csv(ruta_salida, index=False)\n",
        "print(f\"\\nArchivo normalizado guardado en: {ruta_salida}\")"
      ],
      "metadata": {
        "colab": {
          "base_uri": "https://localhost:8080/"
        },
        "id": "maP67Z9rBm9S",
        "outputId": "65898257-d5ca-419a-d238-a8982d8ca5f7"
      },
      "execution_count": null,
      "outputs": [
        {
          "output_type": "stream",
          "name": "stdout",
          "text": [
            "\n",
            "Datos normalizados:\n",
            "   Habitaciones     Baños   Estrato Piso N° Administración          Precio m²  \\\n",
            "0      0.087655  0.276753  0.697411     NaN            NaN                NaN   \n",
            "1      0.000000  0.200000  0.500000       3    No definida  $ 4.032.258,06*m²   \n",
            "2      0.000000  0.200000  1.000000     NaN    No definida  $ 6.428.571,43*m²   \n",
            "3      0.087655  0.276753  0.697411     NaN            NaN                NaN   \n",
            "4      0.000000  0.000000  0.750000       3  $ 167.000 COP     $ 4.700.000*m²   \n",
            "\n",
            "   Parqueaderos    Precio Área construída (m²) Área privada (m²)  \\\n",
            "0      0.114387  0.000100                  NaN               NaN   \n",
            "1      0.114387  0.000107                  62                62    \n",
            "2      0.250000  0.000390                 105                 0    \n",
            "3      0.114387  0.000372                  NaN               NaN   \n",
            "4      0.250000  0.000097                  50                 0    \n",
            "\n",
            "   Antigüedad_16 a 30 años  Antigüedad_9 a 15 años  Antigüedad_menor a 1 año  \\\n",
            "0                    False                   False                     False   \n",
            "1                    False                   False                     False   \n",
            "2                    False                    True                     False   \n",
            "3                    False                   False                     False   \n",
            "4                    False                   False                     False   \n",
            "\n",
            "   Antigüedad_más de 30 años  Estado_En construcción  Estado_Excelente  \\\n",
            "0                      False                   False             False   \n",
            "1                      False                   False             False   \n",
            "2                      False                   False             False   \n",
            "3                      False                   False             False   \n",
            "4                      False                   False             False   \n",
            "\n",
            "   Estado_Remodelado  Estado_Sobre planos  Tipo de apartamento_Loft  \\\n",
            "0              False                False                     False   \n",
            "1              False                False                     False   \n",
            "2              False                False                     False   \n",
            "3              False                False                     False   \n",
            "4              False                False                     False   \n",
            "\n",
            "   Tipo de apartamento_PentHouse  \n",
            "0                          False  \n",
            "1                          False  \n",
            "2                          False  \n",
            "3                          False  \n",
            "4                          False  \n",
            "\n",
            "Archivo normalizado guardado en: houses_medellin_normalizado.csv\n"
          ]
        }
      ]
    }
  ]
}