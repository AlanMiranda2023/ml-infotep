{
  "nbformat": 4,
  "nbformat_minor": 0,
  "metadata": {
    "colab": {
      "provenance": []
    },
    "kernelspec": {
      "name": "python3",
      "display_name": "Python 3"
    },
    "language_info": {
      "name": "python"
    }
  },
  "cells": [
    {
      "cell_type": "markdown",
      "source": [
        "## Importe de librerías y carga del Dataset"
      ],
      "metadata": {
        "id": "QggGha4sgmaP"
      }
    },
    {
      "cell_type": "code",
      "execution_count": null,
      "metadata": {
        "collapsed": true,
        "id": "mIw6XbTxWstx"
      },
      "outputs": [],
      "source": [
        "# Librerías\n",
        "import pandas as pd\n",
        "import numpy as np\n",
        "from sklearn.ensemble import IsolationForest\n",
        "\n",
        "# Ruta del CSV\n",
        "dataset_path = \"/content/houses_medellin.csv\"\n",
        "\n",
        "# Se carga el dataset\n",
        "df = pd.read_csv(dataset_path)\n",
        "\n",
        "# Se hizo un ajuste opcional para mejor manejo del Dataset\n",
        "df.rename(columns={df.columns[0]: 'Casa #'}, inplace=True)\n",
        "\n"
      ]
    },
    {
      "cell_type": "markdown",
      "source": [
        "## Limpieza de valores númericos"
      ],
      "metadata": {
        "id": "DX6WzlnDg1uA"
      }
    },
    {
      "cell_type": "code",
      "source": [
        "# Se limpian todos los valores númericos\n",
        "def clean_numeric(value):\n",
        "    if isinstance(value, str):\n",
        "        value = value.replace(\"$\", \"\").replace(\"COP\", \"\").replace(\",\", \"\").replace(\"*m²\", \"\").strip()\n",
        "        try:\n",
        "            return float(value)\n",
        "        except ValueError:\n",
        "            return np.nan\n",
        "    return value\n",
        "\n",
        "# Y se aplica a columnas que sean más relevantes\n",
        "numeric_columns = [\"Precio\", \"Área construída (m²)\", \"Área privada (m²)\", \"Administración\", \"Precio m²\"]\n",
        "for col in numeric_columns:\n",
        "    df[col] = df[col].apply(clean_numeric)\n",
        "\n"
      ],
      "metadata": {
        "id": "pEWtOzTnhDd_"
      },
      "execution_count": null,
      "outputs": []
    },
    {
      "cell_type": "markdown",
      "source": [
        "## Modificación y calculo de columnas"
      ],
      "metadata": {
        "id": "Bhy3LRghhHUf"
      }
    },
    {
      "cell_type": "code",
      "source": [
        "# Calculo del precio\n",
        "df[\"Precio m²\"] = df[\"Precio\"] / df[\"Área construída (m²)\"]\n",
        "\n",
        "# Se modifican los valores de la columna antiguedad para que sea solo números\n",
        "df[\"Antigüedad\"] = df[\"Antigüedad\"].replace({\"1 a 8 años\": 4.5, \"9 a 15 años\": 12, \"16 a 30 años\": 23, \"+30 años\": 35})\n",
        "df[\"Antigüedad\"] = pd.to_numeric(df[\"Antigüedad\"], errors=\"coerce\")\n",
        "\n",
        "# Eliminación de valores nulos\n",
        "df_clean = df.dropna(subset=[\"Precio m²\", \"Área construída (m²)\", \"Estrato\"])\n",
        "\n",
        "# Caracteristicas relevantes\n",
        "features = [\"Precio m²\", \"Estrato\", \"Área construída (m²)\"]\n",
        "df_model = df_clean[features].dropna()\n",
        "\n"
      ],
      "metadata": {
        "id": "wg4O8vDshZBH"
      },
      "execution_count": null,
      "outputs": []
    },
    {
      "cell_type": "markdown",
      "source": [
        "## Aplicación de Isolation Forest para detectar datos anómalos"
      ],
      "metadata": {
        "id": "MB9EN_6shcQu"
      }
    },
    {
      "cell_type": "code",
      "source": [
        "# Se aplica Isolation Forest para detectar anómalias\n",
        "iso_forest = IsolationForest(contamination=0.05, random_state=42)\n",
        "df_model[\"Anomaly\"] = iso_forest.fit_predict(df_model)\n",
        "\n",
        "# Opcionalmente se agrega otra columna para identificar anómalias\n",
        "df_clean[\"Anomaly\"] = df_model[\"Anomaly\"]\n",
        "\n",
        "# Se separan los datos en normales y anómalos\n",
        "df_anomalies = df_clean[df_clean[\"Anomaly\"] == -1]\n",
        "df_corrected = df_clean[df_clean[\"Anomaly\"] == 1]\n",
        "\n"
      ],
      "metadata": {
        "id": "IdW9jEedhlie"
      },
      "execution_count": null,
      "outputs": []
    },
    {
      "cell_type": "markdown",
      "source": [
        "## Guardado e impresión de resultados (en .CSV)"
      ],
      "metadata": {
        "id": "MK0K98tehoNm"
      }
    },
    {
      "cell_type": "code",
      "source": [
        "# Los datos se guardan en archivos CSV\n",
        "df_anomalies.to_csv(\"/content/datos_atipicos.csv\", index=False)\n",
        "df_corrected.to_csv(\"/content/datos_corregidos.csv\", index=False)\n",
        "\n",
        "# Los resultados que se muestran son los datos atípicos que se identificaron\n",
        "print(f\"Total de datos: {len(df_clean)}\")\n",
        "print(f\"Datos atípicos detectados: {len(df_anomalies)}\")"
      ],
      "metadata": {
        "colab": {
          "base_uri": "https://localhost:8080/"
        },
        "id": "ZAM1o-OMhzo-",
        "outputId": "e74263f9-0cab-4d4c-ec0f-26256d5890f6"
      },
      "execution_count": 3,
      "outputs": [
        {
          "output_type": "stream",
          "name": "stdout",
          "text": [
            "Total de datos: 274\n",
            "Datos atípicos detectados: 14\n"
          ]
        }
      ]
    }
  ]
}