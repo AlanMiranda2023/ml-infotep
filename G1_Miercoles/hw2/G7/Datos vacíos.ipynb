{
  "cells": [
    {
      "cell_type": "markdown",
      "metadata": {
        "id": "3iyGTkpwaxW8"
      },
      "source": [
        "**Cargar el dataset y mostrar el resumen de valores faltantes:**"
      ]
    },
    {
      "cell_type": "code",
      "execution_count": null,
      "metadata": {
        "id": "08ZOIHUfayvr"
      },
      "outputs": [],
      "source": [
        "import pandas as pd\n",
        "import numpy as np\n",
        "\n",
        "# Cargar el dataset completo\n",
        "df = pd.read_csv('houses_medellin.csv')\n",
        "\n",
        "# Mostrar un resumen de los valores faltantes por columna\n",
        "print(\"Resumen de valores faltantes por columna:\")\n",
        "print(df.isnull().sum())\n"
      ]
    },
    {
      "cell_type": "markdown",
      "metadata": {
        "id": "-eV3-Q0ya_hZ"
      },
      "source": [
        "**Visualizar el porcentaje de valores faltantes:**"
      ]
    },
    {
      "cell_type": "code",
      "execution_count": null,
      "metadata": {
        "id": "PdTbNAF6bM8b"
      },
      "outputs": [],
      "source": [
        "import matplotlib.pyplot as plt\n",
        "import seaborn as sns\n",
        "\n",
        "# Calcular el porcentaje de valores faltantes y visualizarlo\n",
        "plt.figure(figsize=(10, 5))\n",
        "(df.isnull().mean() * 100).sort_values(ascending=False).plot.bar(color='skyblue')\n",
        "plt.ylabel(\"Porcentaje de valores faltantes (%)\")\n",
        "plt.title(\"Valores faltantes por columna\")\n",
        "plt.show()\n"
      ]
    },
    {
      "cell_type": "markdown",
      "metadata": {
        "id": "cEKMLEklbV5H"
      },
      "source": [
        "**Preprocesamiento: imputación y vectorización para TODAS las columnas:**"
      ]
    },
    {
      "cell_type": "code",
      "execution_count": null,
      "metadata": {
        "id": "L9cez2OPbjaU"
      },
      "outputs": [],
      "source": [
        "from sklearn.impute import KNNImputer, SimpleImputer\n",
        "from sklearn.preprocessing import OneHotEncoder\n",
        "from sklearn.compose import ColumnTransformer\n",
        "from sklearn.pipeline import Pipeline\n",
        "\n",
        "# Identificar columnas numéricas y categóricas en todo el DataFrame\n",
        "num_cols = df.select_dtypes(include=[np.number]).columns.tolist()\n",
        "cat_cols = df.select_dtypes(include=['object']).columns.tolist()\n",
        "\n",
        "print(\"Columnas numéricas:\", num_cols)\n",
        "print(\"Columnas categóricas:\", cat_cols)\n",
        "\n",
        "# Pipeline para columnas numéricas: imputar valores faltantes con KNNImputer\n",
        "num_pipeline = Pipeline([\n",
        "    ('imputer', KNNImputer(n_neighbors=5))\n",
        "])\n",
        "\n",
        "# Pipeline para columnas categóricas: imputar con 'most_frequent' y codificar con OneHotEncoder\n",
        "cat_pipeline = Pipeline([\n",
        "    ('imputer', SimpleImputer(strategy='most_frequent')),\n",
        "    ('encoder', OneHotEncoder(handle_unknown='ignore', sparse_output=False))\n",
        "])\n",
        "\n",
        "# Combinar ambos pipelines en un ColumnTransformer\n",
        "preprocessor = ColumnTransformer([\n",
        "    ('num', num_pipeline, num_cols),\n",
        "    ('cat', cat_pipeline, cat_cols)\n",
        "])\n",
        "\n",
        "# Aplicar la transformación al DataFrame completo\n",
        "X_processed = preprocessor.fit_transform(df)\n"
      ]
    },
    {
      "cell_type": "markdown",
      "metadata": {
        "id": "g1UnZPDkbn5j"
      },
      "source": [
        "**Reconstruir el DataFrame final con nuevos nombres de columnas:**"
      ]
    },
    {
      "cell_type": "code",
      "execution_count": null,
      "metadata": {
        "id": "4LNFVtInbq5O"
      },
      "outputs": [],
      "source": [
        "# Generar nuevos nombres de columnas:\n",
        "# - Las columnas numéricas mantienen sus nombres originales.\n",
        "new_num_cols = num_cols\n",
        "\n",
        "# - Para las columnas categóricas, extraer los nombres generados por OneHotEncoder\n",
        "ohe = preprocessor.named_transformers_['cat'].named_steps['encoder']\n",
        "new_cat_cols = [f\"{col}_{cat}\" for col, cats in zip(cat_cols, ohe.categories_) for cat in cats]\n",
        "\n",
        "# Combinar ambos conjuntos de nombres\n",
        "new_columns = new_num_cols + new_cat_cols\n",
        "\n",
        "# Crear el DataFrame final con los datos procesados\n",
        "df_processed_final = pd.DataFrame(X_processed, columns=new_columns)\n"
      ]
    },
    {
      "cell_type": "markdown",
      "metadata": {
        "id": "d6zwPklTbuTS"
      },
      "source": [
        "**Mostrar los resultados finales:**"
      ]
    },
    {
      "cell_type": "code",
      "execution_count": null,
      "metadata": {
        "id": "IU6wiy8vbzGj"
      },
      "outputs": [],
      "source": [
        "# Mostrar la forma y una vista previa del DataFrame procesado\n",
        "print(\"Forma del DataFrame procesado:\", df_processed_final.shape)\n",
        "print(\"Vista previa del DataFrame procesado:\")\n",
        "print(df_processed_final.head())"
      ]
    }
  ],
  "metadata": {
    "colab": {
      "provenance": []
    },
    "kernelspec": {
      "display_name": "Python 3",
      "name": "python3"
    },
    "language_info": {
      "codemirror_mode": {
        "name": "ipython",
        "version": 3
      },
      "file_extension": ".py",
      "mimetype": "text/x-python",
      "name": "python",
      "nbconvert_exporter": "python",
      "pygments_lexer": "ipython3",
      "version": "3.12.1"
    }
  },
  "nbformat": 4,
  "nbformat_minor": 0
}
