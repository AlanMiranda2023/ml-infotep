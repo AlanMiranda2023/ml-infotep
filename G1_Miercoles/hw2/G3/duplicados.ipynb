{
  "nbformat": 4,
  "nbformat_minor": 0,
  "metadata": {
    "colab": {
      "provenance": []
    },
    "kernelspec": {
      "name": "python3",
      "display_name": "Python 3"
    },
    "language_info": {
      "name": "python"
    }
  },
  "cells": [
    {
      "cell_type": "markdown",
      "source": [
        "**Datos Duplicados**"
      ],
      "metadata": {
        "id": "T5UE51NsD0-L"
      }
    },
    {
      "cell_type": "code",
      "source": [
        "import pandas as pd\n",
        "\n",
        "def data_quality_metrics(df):\n",
        "    \"\"\"Calcula la métrica de calidad basada en los datos duplicados.\"\"\"\n",
        "    total_filas = len(df)\n",
        "    filas_duplicadas = df.duplicated().sum()\n",
        "    quality_score = (1 - (filas_duplicadas / total_filas)) * 100\n",
        "\n",
        "    print(f\"Total de filas: {total_filas}\")\n",
        "    print(f\"Filas duplicadas: {filas_duplicadas}\")\n",
        "    print(f\"Puntaje de calidad (sin duplicados): {quality_score:.2f}%\")\n",
        "    return quality_score\n",
        "\n",
        "# Cargar el archivo\n",
        "file_path = \"/content/sample_data/houses_medellin (1).csv\"\n",
        "df = pd.read_csv(file_path)\n",
        "\n",
        "#métrica de calidad\n",
        "data_quality_metrics(df)\n"
      ],
      "metadata": {
        "colab": {
          "base_uri": "https://localhost:8080/"
        },
        "id": "CvjEcxiUDhX7",
        "outputId": "09768ac1-50d1-4e12-dd3b-284088899889"
      },
      "execution_count": 6,
      "outputs": [
        {
          "output_type": "stream",
          "name": "stdout",
          "text": [
            "Total de filas: 430\n",
            "Filas duplicadas: 0\n",
            "Puntaje de calidad (sin duplicados): 100.00%\n"
          ]
        },
        {
          "output_type": "execute_result",
          "data": {
            "text/plain": [
              "100.0"
            ]
          },
          "metadata": {},
          "execution_count": 6
        }
      ]
    },
    {
      "cell_type": "markdown",
      "source": [
        "**Calidad de Datos Duplicados**"
      ],
      "metadata": {
        "id": "SMCBnYjWD7Hy"
      }
    },
    {
      "cell_type": "code",
      "source": [
        "def evaluate_duplicate_quality(df):\n",
        "    \"\"\"Evalúa la calidad de los datos duplicados y su impacto.\"\"\"\n",
        "    filas_duplicadas = df[df.duplicated()]\n",
        "\n",
        "    print(\"Resumen de duplicados:\")\n",
        "    print(filas_duplicadas.describe(include='all'))\n",
        "    print(\"\\nMuestras de duplicados:\")\n",
        "    print(filas_duplicadas.head())\n",
        "\n",
        "#calidad de duplicados\n",
        "evaluate_duplicate_quality(df)\n"
      ],
      "metadata": {
        "colab": {
          "base_uri": "https://localhost:8080/"
        },
        "id": "Dg_BbAtuDop6",
        "outputId": "07507530-bbb0-4112-940c-15080ac74a4c"
      },
      "execution_count": 12,
      "outputs": [
        {
          "output_type": "stream",
          "name": "stdout",
          "text": [
            "Resumen de duplicados:\n",
            "        Unnamed: 0  Habitaciones       Baños     Estrato  Antigüedad Piso N°  \\\n",
            "count   430.000000    272.000000  271.000000  309.000000         217     214   \n",
            "unique         NaN           NaN         NaN         NaN           5      17   \n",
            "top            NaN           NaN         NaN         NaN  1 a 8 años    Otro   \n",
            "freq           NaN           NaN         NaN         NaN          78      53   \n",
            "mean    214.500000      2.665441    2.383764    4.789644         NaN     NaN   \n",
            "std     124.274562      1.375263    1.057755    1.030897         NaN     NaN   \n",
            "min       0.000000      1.000000    1.000000    2.000000         NaN     NaN   \n",
            "25%     107.250000      2.000000    2.000000    4.000000         NaN     NaN   \n",
            "50%     214.500000      3.000000    2.000000    5.000000         NaN     NaN   \n",
            "75%     321.750000      3.000000    3.000000    6.000000         NaN     NaN   \n",
            "max     429.000000     20.000000    6.000000    6.000000         NaN     NaN   \n",
            "\n",
            "       Administración          Precio m²  Parqueaderos     Estado  \\\n",
            "count             274                274    212.000000        185   \n",
            "unique            129                189           NaN          5   \n",
            "top       No definida  $ 4.032.258,06*m²           NaN  Excelente   \n",
            "freq               75                  7           NaN        113   \n",
            "mean              NaN                NaN      1.457547        NaN   \n",
            "std               NaN                NaN      0.676687        NaN   \n",
            "min               NaN                NaN      1.000000        NaN   \n",
            "25%               NaN                NaN      1.000000        NaN   \n",
            "50%               NaN                NaN      1.000000        NaN   \n",
            "75%               NaN                NaN      2.000000        NaN   \n",
            "max               NaN                NaN      5.000000        NaN   \n",
            "\n",
            "       Tipo de apartamento        Precio Área construída (m²)  \\\n",
            "count                   19  4.300000e+02                  274   \n",
            "unique                   3           NaN                  117   \n",
            "top                 Duplex           NaN                  50    \n",
            "freq                     9           NaN                   11   \n",
            "mean                   NaN  3.990034e+09                  NaN   \n",
            "std                    NaN  7.231303e+10                  NaN   \n",
            "min                    NaN  9.000000e+07                  NaN   \n",
            "25%                    NaN  2.700000e+08                  NaN   \n",
            "50%                    NaN  4.255000e+08                  NaN   \n",
            "75%                    NaN  6.300000e+08                  NaN   \n",
            "max                    NaN  1.500000e+12                  NaN   \n",
            "\n",
            "       Área privada (m²)  \n",
            "count                274  \n",
            "unique                85  \n",
            "top                   0   \n",
            "freq                 115  \n",
            "mean                 NaN  \n",
            "std                  NaN  \n",
            "min                  NaN  \n",
            "25%                  NaN  \n",
            "50%                  NaN  \n",
            "75%                  NaN  \n",
            "max                  NaN  \n",
            "\n",
            "Muestras de duplicados:\n",
            "   Unnamed: 0  Habitaciones  Baños  Estrato   Antigüedad Piso N°  \\\n",
            "0           0           NaN    NaN      NaN          NaN     NaN   \n",
            "1           1           1.0    2.0      4.0   1 a 8 años       3   \n",
            "2           2           1.0    2.0      6.0  9 a 15 años     NaN   \n",
            "3           3           NaN    NaN      NaN          NaN     NaN   \n",
            "4           4           1.0    1.0      5.0          NaN       3   \n",
            "\n",
            "  Administración          Precio m²  Parqueaderos Estado Tipo de apartamento  \\\n",
            "0            NaN                NaN           NaN    NaN                 NaN   \n",
            "1    No definida  $ 4.032.258,06*m²           NaN    NaN                 NaN   \n",
            "2    No definida  $ 6.428.571,43*m²           2.0    NaN                 NaN   \n",
            "3            NaN                NaN           NaN    NaN                 NaN   \n",
            "4  $ 167.000 COP     $ 4.700.000*m²           2.0    NaN                 NaN   \n",
            "\n",
            "      Precio Área construída (m²) Área privada (m²)  \n",
            "0  240000000                  NaN               NaN  \n",
            "1  250000000                  62                62   \n",
            "2  675000000                 105                 0   \n",
            "3  647307563                  NaN               NaN  \n",
            "4  235000000                  50                 0   \n"
          ]
        }
      ]
    },
    {
      "cell_type": "markdown",
      "source": [
        "**Procesamiento de Datos Duplicados**"
      ],
      "metadata": {
        "id": "I0-iV1TfD_-6"
      }
    },
    {
      "cell_type": "code",
      "source": [
        "def process_duplicates(df, keep='first'):\n",
        "    \"\"\"Procesa los datos duplicados eliminando registros redundantes.\"\"\"\n",
        "    cleaned_df = df.drop_duplicates(keep=keep)\n",
        "    print(f\"Filas después de eliminar duplicados: {len(cleaned_df)}\")\n",
        "    return cleaned_df\n",
        "\n",
        "# Eliminar duplicados\n",
        "df_cleaned = process_duplicates(df)\n"
      ],
      "metadata": {
        "colab": {
          "base_uri": "https://localhost:8080/"
        },
        "id": "0fC7r58ODtd6",
        "outputId": "fa444fe9-8634-4c3d-e776-d364deb3b97e"
      },
      "execution_count": 11,
      "outputs": [
        {
          "output_type": "stream",
          "name": "stdout",
          "text": [
            "Filas después de eliminar duplicados: 430\n"
          ]
        }
      ]
    }
  ]
}