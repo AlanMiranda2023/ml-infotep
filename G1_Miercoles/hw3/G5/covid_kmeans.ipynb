{
  "cells": [
    {
      "cell_type": "markdown",
      "source": [
        "**Como primer paso se normaliza el campo con que se va trabajar.**"
      ],
      "metadata": {
        "id": "fwryiiQ9Cjua"
      }
    },
    {
      "cell_type": "code",
      "source": [
        "import pandas as pd\n",
        "import matplotlib.pyplot as plt\n",
        "import numpy as np"
      ],
      "metadata": {
        "id": "Uy2Lspd_FjTa"
      },
      "execution_count": 17,
      "outputs": []
    },
    {
      "cell_type": "markdown",
      "source": [
        "# **Se normaliza el campo de Edad y Sexo y se obtiene un nuevo archivo llamado: archivo_normalizado.csv**"
      ],
      "metadata": {
        "id": "dr3slUvfSQ19"
      }
    },
    {
      "cell_type": "code",
      "source": [
        "\"\"\"\n",
        "    Algoritmo para normalizar las columnas de edad y sexo.\n",
        "\n",
        "    Parametros:\n",
        "       file_path: recibe la ruta del archivo a normalizar.\n",
        "\"\"\"\n",
        "\n",
        "file_path = \"archivo_organizado.csv\"\n",
        "\n",
        "# Cargar el archivo con el separador correcto\n",
        "df = pd.read_csv(file_path, encoding=\"latin1\", sep=\";\", low_memory=False)\n",
        "\n",
        "# Verificar si la columna \"Edad\" y \"Sexo\" existen\n",
        "if \"Edad\" in df.columns and \"Sexo\" in df.columns:\n",
        "\n",
        "    # Función para normalizar la edad\n",
        "    def normalizar_edad(edad):\n",
        "        if edad <= 20:\n",
        "            return 1\n",
        "        elif 21 <= edad <= 40:\n",
        "            return 2\n",
        "        else:\n",
        "            return 3\n",
        "\n",
        "    # Normalizar la columna \"Edad\"\n",
        "    df[\"Edad_Normalizada\"] = df[\"Edad\"].apply(normalizar_edad)\n",
        "\n",
        "    # Normalizar la columna \"Sexo\"\n",
        "    df[\"Sexo_Normalizado\"] = df[\"Sexo\"].map({'M': 0, 'F': 1})  # M = 0, F = 1\n",
        "\n",
        "    # Guardar el archivo con las nuevas columnas\n",
        "    df.to_csv(\"archivo_normalizado.csv\", index=False, sep=\";\")\n",
        "\n",
        "    print(\"Normalización completada, archivo guardado como 'archivo_normalizado.csv'.\")\n",
        "else:\n",
        "    print(\"Las columnas 'Edad' y/o 'Sexo' no se encontraron en el archivo.\")"
      ],
      "metadata": {
        "colab": {
          "base_uri": "https://localhost:8080/"
        },
        "id": "0SvLgh48B8R1",
        "outputId": "54023f47-baf5-4e4b-bcdd-ded27e62dee9"
      },
      "execution_count": 33,
      "outputs": [
        {
          "output_type": "stream",
          "name": "stdout",
          "text": [
            "Normalización completada, archivo guardado como 'archivo_normalizado.csv'.\n"
          ]
        }
      ]
    },
    {
      "cell_type": "code",
      "execution_count": 34,
      "metadata": {
        "id": "ZNd8marZeovQ"
      },
      "outputs": [],
      "source": [
        "class KMeans:\n",
        "    \"\"\"\n",
        "    Algoritmo de clustering K-Means\n",
        "\n",
        "    Parametros:\n",
        "        k (int): Número de clusters a encontrar (por defecto 3)\n",
        "        max_iter (int): Número maximo de iteraciones (por defecto 100)\n",
        "        centroids (numpy.ndarray): Cordenadas iniciales del centroides (por defecto ninguna)\n",
        "    \"\"\"\n",
        "    def __init__(self, k=3, max_iter=100, centroids = None):\n",
        "        \"\"\"\n",
        "        Constructor de objetos kMeans\n",
        "\n",
        "        Parametros:\n",
        "            k (int): Número de cluster\n",
        "            max_iter (int): Número maximo de iteraciones\n",
        "        \"\"\"\n",
        "        self.k = k\n",
        "        self.max_iter = max_iter\n",
        "        self.centroids = centroids\n",
        "\n",
        "    def distancia_euclideana(self, p1, p2):\n",
        "        \"\"\"\n",
        "        Calcula la distancia Euclideana entre dos puntos.\n",
        "\n",
        "        Parametros:\n",
        "            point1 (numpy.ndarray): Primer punto\n",
        "            point2 (numpy.ndarray): Segundo punto\n",
        "\n",
        "        Returns:\n",
        "            float: La distancia euclideana entre los dos puntos\n",
        "        \"\"\"\n",
        "        return np.sqrt(np.sum((p1 - p2)**2))\n",
        "\n",
        "    def distancia_manhattan(self, point1, point2):\n",
        "        \"\"\"\n",
        "        Calcula la distancia de Manhattan entre dos puntos\n",
        "\n",
        "        Parametros:\n",
        "            point1 (numpy.ndarray): Primer punto.\n",
        "            point2 (numpy.ndarray): Segundo punto\n",
        "\n",
        "        Returns:\n",
        "            float: Distancia de Manhattan entre dos puntos\n",
        "        \"\"\"\n",
        "        return np.sum(np.abs(point1 - point2))\n",
        "\n",
        "    def distancia_mahalanobis(self, point1, point2, covariance_matrix):\n",
        "        \"\"\"\n",
        "        Cacula la distancia de Mahalanobis entre dos puntos\n",
        "\n",
        "        Parametros:\n",
        "            point1 (numpy.ndarray): Primer punto.\n",
        "            point2 (numpy.ndarray): Segundo punto.\n",
        "            covariance_matrix (numpy.ndarray): Matrix de covarancia de los datos.\n",
        "\n",
        "        Returns:\n",
        "            float: La distancia de Mahalanobis entre dos puntos\n",
        "        \"\"\"\n",
        "        diff = point1 - point2\n",
        "        return np.sqrt(diff @ np.linalg.inv(covariance_matrix) @ diff.T)\n",
        "\n",
        "    def calcular_centroides(self, points, labels):\n",
        "        \"\"\"\n",
        "        Calcula los centroides de la nube de puntos dada por la asignación en la variable labels\n",
        "\n",
        "        Parametros:\n",
        "            points (numpy.ndarray): Nube de puntos\n",
        "            labels (numpy.ndarray): Cluster asignado para cada punto\n",
        "\n",
        "        Returns:\n",
        "            numpy.ndarray: Centroides de cada cluster\n",
        "        \"\"\"\n",
        "\n",
        "        centroids = np.zeros((self.k, points.shape[1]))\n",
        "        for i in range(self.k):\n",
        "            cluster_points = points[labels == i]\n",
        "            if len(cluster_points) > 0:\n",
        "              centroids[i] = np.mean(cluster_points, axis=0)\n",
        "        return centroids\n",
        "\n",
        "    def run(self, points, tipo_distance='euclidean'):\n",
        "        \"\"\"\n",
        "        Ejecuta un algoritmo K-Means dado la nube de puntos recibida como parametro\n",
        "\n",
        "        Parametros:\n",
        "            points (numpy.ndarray): Nube de puntos\n",
        "            tipo_distance (str): Tipo de distancia a utilizar ('euclidean', 'manhattan', or 'mahalanobis'). Por defecto  'euclidean'.\n",
        "\n",
        "        Returns:\n",
        "            numpy.ndarray: El cluster asignado a cada grupo\n",
        "        \"\"\"\n",
        "\n",
        "        indices = np.random.choice(points.shape[0], self.k, replace=False)\n",
        "        self.centroids = points[indices]\n",
        "\n",
        "        for _ in range(self.max_iter):\n",
        "            labels = np.zeros(points.shape[0], dtype=int)\n",
        "            for i, point in enumerate(points):\n",
        "                if tipo_distance == 'euclidean':\n",
        "                    distances = [self.distancia_euclideana(point, centroid) for centroid in self.centroids]\n",
        "                elif tipo_distance == 'manhattan':\n",
        "                    distances = [self.distancia_manhattan(point, centroid) for centroid in self.centroids]\n",
        "                elif tipo_distance == 'mahalanobis':\n",
        "                    covariance_matrix = np.cov(points, rowvar=False)\n",
        "                    distances = [self.distancia_mahalanobis(point, centroid, covariance_matrix) for centroid in self.centroids]\n",
        "                else:\n",
        "                    raise ValueError(\"Tipo de distancia no disponible\")\n",
        "                labels[i] = np.argmin(distances)\n",
        "\n",
        "            new_centroids = self.calcular_centroides(points, labels)\n",
        "\n",
        "            if np.array_equal(self.centroids, new_centroids):\n",
        "                break\n",
        "\n",
        "            self.centroids = new_centroids\n",
        "        return labels"
      ]
    },
    {
      "cell_type": "code",
      "execution_count": 35,
      "metadata": {
        "id": "XYwXzgoOeovR"
      },
      "outputs": [],
      "source": [
        "def dibujar2D (points, centroids, labels):\n",
        "    plt.figure(figsize=(10, 5))\n",
        "    plt.subplot(1, 2, 1)\n",
        "    plt.scatter(points[:, 0], points[:, 1], c='blue', label='Puntos')\n",
        "    plt.title('Antes de kmeans')\n",
        "    plt.xlabel('X')\n",
        "    plt.ylabel('Y')\n",
        "    plt.legend()\n",
        "\n",
        "    plt.subplot(1, 2, 2)\n",
        "    plt.scatter(points[:, 0], points[:, 1], c=labels, cmap='viridis', label='Puntos')\n",
        "    plt.scatter(centroids[:, 0], centroids[:, 1], c='red', marker='*', s=200, label='Centroides finales')\n",
        "    plt.title('Despues de kmeans')\n",
        "    plt.xlabel('X')\n",
        "    plt.ylabel('Y')\n",
        "    plt.legend()\n",
        "\n",
        "    plt.tight_layout()\n",
        "    plt.show()\n",
        "\n",
        "def dibujar3D (points, centroids, labels):\n",
        "    fig = plt.figure(figsize=(10, 5))\n",
        "    ax1 = fig.add_subplot(121, projection='3d')\n",
        "    ax1.scatter(points[:, 0], points[:, 1], points[:, 2], c='blue', label='Puntos')\n",
        "    ax1.set_title('Antes de kmeans')\n",
        "    ax1.set_xlabel('X')\n",
        "    ax1.set_ylabel('Y')\n",
        "    ax1.set_zlabel('Z')\n",
        "    ax1.legend()\n",
        "\n",
        "\n",
        "    # Plot the points and final centroids\n",
        "    ax2 = fig.add_subplot(122, projection='3d')\n",
        "    ax2.scatter(points[:, 0], points[:, 1], points[:, 2], c=labels, cmap='viridis', label='Puntos')\n",
        "    ax2.scatter(centroids[:, 0], centroids[:, 1], centroids[:, 2], c='red', marker='*', s=200, label='Centroides finales')\n",
        "    ax2.set_title('Despues de kmeans')\n",
        "    ax2.set_xlabel('X')\n",
        "    ax2.set_ylabel('Y')\n",
        "    ax2.set_zlabel('Z')\n",
        "    ax2.legend()\n",
        "\n",
        "    plt.tight_layout()\n",
        "    plt.show()"
      ]
    },
    {
      "cell_type": "markdown",
      "source": [
        "# Capturando los datos del archivo normalizado, se ajusto para ingresar por paramentros la cantidad de registro a tomar para poder obtimizar el recurso y obtener una repuesta mas rapido que si tomada todo el millo de datos"
      ],
      "metadata": {
        "id": "QmFRBA41FcWD"
      }
    },
    {
      "cell_type": "code",
      "source": [
        "def generar_matriz_2d(file_path, n_samples=1000):\n",
        "\n",
        "    \"\"\"\n",
        "    Genera una matriz 2D tomando una cantidad específica de muestras del archivo.\n",
        "\n",
        "    Parametros:\n",
        "        file_path (str): Ruta del archivo CSV.\n",
        "        n_samples (int): Cantidad de muestras a leer del archivo.\n",
        "\n",
        "    Retorna:\n",
        "        matriz_2d (numpy.ndarray): Matriz 2D generada con Edad_Normalizada y Sexo.\n",
        "    \"\"\"\n",
        "\n",
        "    # Cargar solo las primeras 'n_samples' filas del archivo\n",
        "    df = pd.read_csv(file_path, encoding=\"latin1\", sep=\";\", low_memory=False, nrows=n_samples)\n",
        "\n",
        "    # Verificar que las columnas \"Edad_Normalizada\" y \"Sexo\" existen\n",
        "    if \"Edad_Normalizada\" in df.columns and \"Sexo\" in df.columns:\n",
        "\n",
        "        # Convertir la columna \"Sexo\" a valores numéricos (M=0, F=1)\n",
        "        df['Sexo_Num'] = df['Sexo'].map({'M': 0, 'F': 1})\n",
        "\n",
        "        # Obtener los valores de Edad_Normalizada y Sexo_Num\n",
        "        edad_normalizada = df[\"Edad_Normalizada\"].values\n",
        "        sexo_num = df[\"Sexo_Num\"].values\n",
        "\n",
        "        # Crear la matriz 2D\n",
        "        matriz_2d = np.column_stack((edad_normalizada, sexo_num))\n",
        "\n",
        "        # Mostrar la matriz generada\n",
        "        print(matriz_2d)\n",
        "\n",
        "        return matriz_2d\n",
        "    else:\n",
        "        print(\"Las columnas 'Edad_Normalizada' y/o 'Sexo' no se encontraron en el archivo.\")\n",
        "        return None"
      ],
      "metadata": {
        "id": "adhhQ602NYLk"
      },
      "execution_count": 56,
      "outputs": []
    },
    {
      "cell_type": "markdown",
      "source": [
        "**Generar el grafico en 2D con los datos obtenidos del archivo normalizado**"
      ],
      "metadata": {
        "id": "KLMkROECSIYH"
      }
    },
    {
      "cell_type": "code",
      "source": [
        "file_path = \"archivo_normalizado.csv\"  # Ruta del archivo\n",
        "n_samples = 2000  #cantidad de registro a tomar del archivo\n",
        "matriz_2d = generar_matriz_2d(file_path, n_samples)\n",
        "\n",
        "points = matriz_2d\n",
        "kmeans = KMeans(k=3)\n",
        "labels = kmeans.run(points)\n",
        "print(labels)\n",
        "print(kmeans.centroids)\n",
        "dibujar2D(points, kmeans.centroids, labels)"
      ],
      "metadata": {
        "colab": {
          "base_uri": "https://localhost:8080/",
          "height": 710
        },
        "id": "BzxoIZLWNsmG",
        "outputId": "a5e44439-c77e-4177-baad-dcda956e409f"
      },
      "execution_count": 57,
      "outputs": [
        {
          "output_type": "stream",
          "name": "stdout",
          "text": [
            "[[3 1]\n",
            " [3 1]\n",
            " [3 1]\n",
            " ...\n",
            " [2 0]\n",
            " [2 0]\n",
            " [2 0]]\n",
            "[1 1 1 ... 0 0 0]\n",
            "[[1.85261194 0.45149254]\n",
            " [3.         0.46443966]\n",
            " [0.         0.        ]]\n"
          ]
        },
        {
          "output_type": "display_data",
          "data": {
            "text/plain": [
              "<Figure size 1000x500 with 2 Axes>"
            ],
            "image/png": "[encoded data removed]"
          },
          "metadata": {}
        }
      ]
    }
  ],
  "metadata": {
    "kernelspec": {
      "display_name": "Python 3",
      "language": "python",
      "name": "python3"
    },
    "language_info": {
      "codemirror_mode": {
        "name": "ipython",
        "version": 3
      },
      "file_extension": ".py",
      "mimetype": "text/x-python",
      "name": "python",
      "nbconvert_exporter": "python",
      "pygments_lexer": "ipython3",
      "version": "3.10.12"
    },
    "colab": {
      "provenance": []
    }
  },
  "nbformat": 4,
  "nbformat_minor": 0
}