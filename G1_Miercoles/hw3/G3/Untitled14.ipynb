{
  "nbformat": 4,
  "nbformat_minor": 0,
  "metadata": {
    "colab": {
      "provenance": []
    },
    "kernelspec": {
      "name": "python3",
      "display_name": "Python 3"
    },
    "language_info": {
      "name": "python"
    }
  },
  "cells": [
    {
      "cell_type": "code",
      "execution_count": 1,
      "metadata": {
        "colab": {
          "base_uri": "https://localhost:8080/"
        },
        "id": "49AFiLq2MnLC",
        "outputId": "00483595-3464-4067-94c3-119bfd835590"
      },
      "outputs": [
        {
          "output_type": "stream",
          "name": "stdout",
          "text": [
            "Iteración 1 - Centroides: [[1.0, 2.0], [1.5, 0.8], [4.966666666666667, 6.622222222222222]]\n",
            "Iteración 2 - Centroides: [[2.2399999999999998, 3.0200000000000005], [1.5, 0.8], [6.9, 9.3]]\n",
            "Iteración 3 - Centroides: [[2.9, 3.766666666666667], [1.375, 1.3499999999999999], [6.9, 9.3]]\n",
            "Iteración 4 - Centroides: [[2.9, 3.766666666666667], [1.375, 1.3499999999999999], [6.9, 9.3]]\n",
            "Iteración 5 - Centroides: [[2.9, 3.766666666666667], [1.375, 1.3499999999999999], [6.9, 9.3]]\n",
            "Iteración 6 - Centroides: [[2.9, 3.766666666666667], [1.375, 1.3499999999999999], [6.9, 9.3]]\n",
            "Iteración 7 - Centroides: [[2.9, 3.766666666666667], [1.375, 1.3499999999999999], [6.9, 9.3]]\n",
            "Iteración 8 - Centroides: [[2.9, 3.766666666666667], [1.375, 1.3499999999999999], [6.9, 9.3]]\n",
            "Iteración 9 - Centroides: [[2.9, 3.766666666666667], [1.375, 1.3499999999999999], [6.9, 9.3]]\n",
            "Iteración 10 - Centroides: [[2.9, 3.766666666666667], [1.375, 1.3499999999999999], [6.9, 9.3]]\n",
            "Asignación final de puntos a clusters: [1, 1, 1, 2, 2, 2, 1, 2, 2, 0, 0, 0]\n"
          ]
        }
      ],
      "source": [
        "# Datos de ejemplo: cada punto es una lista con dos números (x, y)\n",
        "datos = [\n",
        "    [1, 2],\n",
        "    [2, 1],\n",
        "    [1.5, 1.8],\n",
        "    [5, 8],\n",
        "    [6, 9],\n",
        "    [6.5, 8.5],\n",
        "    [1, 0.6],\n",
        "    [9, 11],\n",
        "    [8, 10],\n",
        "    [3, 4],\n",
        "    [2.5, 3.5],\n",
        "    [3.2, 3.8]\n",
        "]\n",
        "\n",
        "# Número de grupos que queremos crear\n",
        "k = 3\n",
        "\n",
        "# Función para calcular la distancia entre dos puntos (fórmula de la distancia euclidiana)\n",
        "def distancia(a, b):\n",
        "    return ((a[0] - b[0]) ** 2 + (a[1] - b[1]) ** 2) ** 0.5\n",
        "\n",
        "# Inicializamos los centroides usando los primeros k puntos de la lista\n",
        "centroides = datos[:k]\n",
        "\n",
        "# Realizamos un número fijo de iteraciones (por simplicidad, 10)\n",
        "for iteracion in range(10):\n",
        "    # Lista para guardar a qué grupo pertenece cada punto\n",
        "    asignaciones = []\n",
        "\n",
        "    # Asignar cada punto al centroide más cercano\n",
        "    for punto in datos:\n",
        "        # Calculamos la distancia a cada centroide\n",
        "        distancias = []\n",
        "        for centro in centroides:\n",
        "            distancias.append(distancia(punto, centro))\n",
        "        # Elegimos el centroide con la distancia mínima\n",
        "        cluster = 0\n",
        "        menor = distancias[0]\n",
        "        for i in range(1, len(distancias)):\n",
        "            if distancias[i] < menor:\n",
        "                menor = distancias[i]\n",
        "                cluster = i\n",
        "        asignaciones.append(cluster)\n",
        "\n",
        "    # Recalcular los centroides: promediamos los puntos asignados a cada grupo\n",
        "    nuevos_centroides = [[0, 0] for _ in range(k)]\n",
        "    conteo = [0] * k\n",
        "    for indice, punto in enumerate(datos):\n",
        "        grupo = asignaciones[indice]\n",
        "        nuevos_centroides[grupo][0] += punto[0]\n",
        "        nuevos_centroides[grupo][1] += punto[1]\n",
        "        conteo[grupo] += 1\n",
        "\n",
        "    for i in range(k):\n",
        "        if conteo[i] != 0:\n",
        "            nuevos_centroides[i][0] /= conteo[i]\n",
        "            nuevos_centroides[i][1] /= conteo[i]\n",
        "        else:\n",
        "            # Si no hay puntos en el grupo, dejamos el centroide sin cambios\n",
        "            nuevos_centroides[i] = centroides[i]\n",
        "\n",
        "    centroides = nuevos_centroides\n",
        "    print(\"Iteración\", iteracion + 1, \"- Centroides:\", centroides)\n",
        "\n",
        "print(\"Asignación final de puntos a clusters:\", asignaciones)"
      ]
    }
  ]
}