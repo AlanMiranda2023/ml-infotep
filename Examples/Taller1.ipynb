{
  "nbformat": 4,
  "nbformat_minor": 0,
  "metadata": {
    "colab": {
      "provenance": []
    },
    "kernelspec": {
      "name": "python3",
      "display_name": "Python 3"
    },
    "language_info": {
      "name": "python"
    }
  },
  "cells": [
    {
      "cell_type": "markdown",
      "source": [
        "# **Que hace este fragmento de codigo?**"
      ],
      "metadata": {
        "id": "jlbE5dF0dNzq"
      }
    },
    {
      "cell_type": "code",
      "execution_count": null,
      "metadata": {
        "colab": {
          "base_uri": "https://localhost:8080/"
        },
        "id": "r5HOsykEdLob",
        "outputId": "1d17f414-a025-4d2f-ffa1-ab051251c413"
      },
      "outputs": [
        {
          "output_type": "stream",
          "name": "stdout",
          "text": [
            "1: 3.95\n",
            "2: 3.85\n",
            "3: 4.46\n",
            "\n",
            "Resultado: 4.12\n",
            "Estado: OK\n"
          ]
        },
        {
          "output_type": "execute_result",
          "data": {
            "text/plain": [
              "(4.123, (3.9466666666666668, 3.85, 4.46), 'OK')"
            ]
          },
          "metadata": {},
          "execution_count": 1
        }
      ],
      "source": [
        "def proceso():\n",
        "    datos = [\n",
        "        ([4.0, 3.5, 5.0], 3.8),\n",
        "        ([2.5, 3.0, 3.8, 4.0], 4.2),\n",
        "        ([4.5, 4.0, 3.8], 4.7)\n",
        "    ]\n",
        "    w = [0.3, 0.3, 0.4]\n",
        "\n",
        "    f1 = lambda xs: sum(xs) / len(xs) if xs else 0\n",
        "    f2 = lambda a, b: b * 0.6 + f1(a) * 0.4\n",
        "\n",
        "    r = [f2(x, y) for x, y in datos]\n",
        "\n",
        "    x1, x2, x3 = r\n",
        "    g = sum(u * v for u, v in zip(r, w))\n",
        "\n",
        "    for i, v in enumerate(r, 1):\n",
        "        print(f\"{i}: {v:.2f}\")\n",
        "\n",
        "    print(f\"\\nResultado: {g:.2f}\")\n",
        "    s = \"OK\" if g >= 3.0 else \"FAIL\"\n",
        "    print(\"Estado:\", s)\n",
        "\n",
        "    return g, (x1, x2, x3), s\n",
        "\n",
        "\n",
        "proceso()"
      ]
    },
    {
      "cell_type": "code",
      "source": [],
      "metadata": {
        "id": "T0KdjNIkdM5Z"
      },
      "execution_count": null,
      "outputs": []
    }
  ]
}